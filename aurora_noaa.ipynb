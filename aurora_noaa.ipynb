{
 "cells": [
  {
   "cell_type": "markdown",
   "metadata": {},
   "source": [
    "# Ovation Aurora Short Term Forecast\n",
    "Short notebook ingesting text file, and saving as pandas array, along with forecast timestamp.\n",
    "\n",
    "Link: http://services.swpc.noaa.gov/text/aurora-nowcast-map.txt\n",
    "\n",
    "On the website, service looks like:\n",
    "<table>\n",
    "    <tr>\n",
    "        <th>Northern Hemisphere</th>\n",
    "        <th>Southern Hemisphere</th>\n",
    "    </tr>\n",
    "    <tr>\n",
    "        <td><img src=\"http://services.swpc.noaa.gov/images/aurora-forecast-northern-hemisphere.png\" width=300></td>\n",
    "        <td><img src=\"http://services.swpc.noaa.gov/images/aurora-forecast-southern-hemisphere.png\" width=300></td>\n",
    "    </tr>\n",
    "</table>"
   ]
  },
  {
   "cell_type": "code",
   "execution_count": 68,
   "metadata": {
    "collapsed": true
   },
   "outputs": [],
   "source": [
    "import datetime\n",
    "import matplotlib.pyplot as plt\n",
    "import numpy as np\n",
    "import pandas as pd\n",
    "import requests"
   ]
  },
  {
   "cell_type": "code",
   "execution_count": null,
   "metadata": {
    "collapsed": true
   },
   "outputs": [],
   "source": []
  },
  {
   "cell_type": "code",
   "execution_count": 106,
   "metadata": {
    "collapsed": false
   },
   "outputs": [
    {
     "name": "stdout",
     "output_type": "stream",
     "text": [
      "connection to internet timed out \n",
      "using local copy instead\n"
     ]
    }
   ],
   "source": [
    "# Will need to fix the connection to get the update every n minutes,\n",
    "# but for now I can't connect to the Internet.\n",
    "def aurora_forecast():\n",
    "    \"\"\"Retrieves the OVATION aurora forecast from the swpc.noaa site. If\n",
    "    Internet is down, retrieves local copy.\n",
    "    Extent:\n",
    "    1024 values covering 0 to 360 degrees in longitude (0.32846715 deg/px)\n",
    "    512 values covering -90 to 90 degrees in latitude (0.3515625 deg/px)\n",
    "    \n",
    "    Returns:\n",
    "    array: pandas array of the forecast\n",
    "    datetime: date & time of forecast\n",
    "    \n",
    "    None -> np.array, datetime\"\"\"\n",
    "    img_extent = (-180, 180, -90, 90)\n",
    "    url = 'http://services.swpc.noaa.gov/text/aurora-nowcast-map.txt'\n",
    "    loc_copy = 'C:/Users/FLeblanc/Desktop/aurora-nowcast-map.txt'\n",
    "    \n",
    "    # For dev phase, we don't fetch the file but simply use the local copy.\n",
    "    def connected_to_internet(host='8.8.8.8', port=53, timeout=1):\n",
    "        \"\"\"Host: 8.8.8.8 (google-public-dns-a.google.com)\n",
    "        OpenPort: 53/tcp\n",
    "        Service: domain (DNS/TCP)\n",
    "        See \n",
    "        \"\"\"\n",
    "        import socket\n",
    "        try:\n",
    "            socket.setdefaulttimeout(timeout)\n",
    "            socket.socket(socket.AF_INET, socket.SOCK_STREAM).connect((host, port))\n",
    "            return True\n",
    "        except Exception as ex:\n",
    "            print(\"connection to internet\", ex, \"\\nusing local copy instead\")\n",
    "            return False\n",
    "    \n",
    "    if connected_to_internet():\n",
    "        file = requests.get(url, timeout=1)\n",
    "    else:\n",
    "        file = loc_copy\n",
    "        \n",
    "    img = pd.read_csv(file, comment='#', delimiter='\\s+', header=None)\n",
    "    for line in file: \n",
    "        if line.startswith('Product Valid At:', 2): \n",
    "            dt = datetime.strptime(line[-17:-1], '%Y-%m-%d %H:%M')\n",
    "        else:\n",
    "            dt = None\n",
    "\n",
    "    return img, dt\n",
    "\n",
    "# Make sure the array we get is at least the right size\n",
    "assert aurora_forecast()[0].shape == (512, 1024)"
   ]
  },
  {
   "cell_type": "code",
   "execution_count": null,
   "metadata": {
    "collapsed": true
   },
   "outputs": [],
   "source": []
  }
 ],
 "metadata": {
  "kernelspec": {
   "display_name": "Python 3",
   "language": "python",
   "name": "python3"
  },
  "language_info": {
   "codemirror_mode": {
    "name": "ipython",
    "version": 3
   },
   "file_extension": ".py",
   "mimetype": "text/x-python",
   "name": "python",
   "nbconvert_exporter": "python",
   "pygments_lexer": "ipython3",
   "version": "3.6.0"
  }
 },
 "nbformat": 4,
 "nbformat_minor": 2
}
