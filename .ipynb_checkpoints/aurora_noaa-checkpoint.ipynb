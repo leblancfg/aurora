{
 "cells": [
  {
   "cell_type": "markdown",
   "metadata": {},
   "source": [
    "# Ovation Aurora Short Term Forecast\n",
    "Short notebook ingesting text file, and saving as pandas array, along with forecast timestamp.\n",
    "\n",
    "Link: http://services.swpc.noaa.gov/text/aurora-nowcast-map.txt\n",
    "\n",
    "On the website, service looks like:\n",
    "<table>\n",
    "    <tr>\n",
    "        <th>Northern Hemisphere</th>\n",
    "        <th>Southern Hemisphere</th>\n",
    "    </tr>\n",
    "    <tr>\n",
    "        <td><img src=\"http://services.swpc.noaa.gov/images/aurora-forecast-northern-hemisphere.png\" width=300></td>\n",
    "        <td><img src=\"http://services.swpc.noaa.gov/images/aurora-forecast-southern-hemisphere.png\" width=300></td>\n",
    "    </tr>\n",
    "</table>"
   ]
  },
  {
   "cell_type": "code",
   "execution_count": 15,
   "metadata": {
    "collapsed": false
   },
   "outputs": [
    {
     "name": "stdout",
     "output_type": "stream",
     "text": [
      "timed out , using local copy instead\n"
     ]
    }
   ],
   "source": [
    "from datetime import datetime\n",
    "import matplotlib.pyplot as plt\n",
    "import numpy as np\n",
    "import pandas as pd\n",
    "import requests\n",
    "\n",
    "# Will need to fix the connection to get the update every n minutes,\n",
    "# but for now devputer can't connect to the Internet.\n",
    "def ovation_forecast():\n",
    "    \"\"\"Retrieves the OVATION aurora forecast from the swpc.noaa site. If\n",
    "    Internet is down, retrieves local copy.\n",
    "    Extent:\n",
    "    1024 values covering 0 to 360 degrees in longitude (0.32846715 deg/px)\n",
    "    512 values covering -90 to 90 degrees in latitude (0.3515625 deg/px)\n",
    "    Returns:\n",
    "    array: pandas array of the forecast\n",
    "    datetime: date & time of forecast\n",
    "    None -> np.array, datetime\"\"\"\n",
    "    img_extent = (-180, 180, -90, 90)\n",
    "    url = 'http://services.swpc.noaa.gov/text/aurora-nowcast-map.txt'\n",
    "    loc_copy = 'aurora-nowcast-map.txt'\n",
    "    timestamp = None\n",
    "    \n",
    "    def connected_to_internet(host='8.8.8.8', port=53, timeout=1):\n",
    "        \"\"\"Host: 8.8.8.8 (google-public-dns-a.google.com)\n",
    "        OpenPort: 53/tcp\n",
    "        Service: domain (DNS/TCP)\n",
    "        See http://stackoverflow.com/questions/3764291/checking-network-connection\n",
    "        \"\"\"\n",
    "        import socket\n",
    "        try:\n",
    "            socket.setdefaulttimeout(timeout)\n",
    "            socket.socket(socket.AF_INET, socket.SOCK_STREAM).connect((host, port))\n",
    "            return True\n",
    "        except Exception as ex:\n",
    "            print(ex, \", using local copy instead\")\n",
    "            return False\n",
    "    \n",
    "    if connected_to_internet():\n",
    "        file = requests.get(url, timeout=1).read()\n",
    "    else:\n",
    "        file = loc_copy\n",
    "    \n",
    "    # Get timestamp\n",
    "    with open(file) as f:\n",
    "        for line in f:\n",
    "            if line.startswith('# Product Valid At:'):\n",
    "                timestamp = datetime.strptime(line[-17:-1], '%Y-%m-%d %H:%M')\n",
    "\n",
    "    # Get data grid\n",
    "    # [ ] TODO: find a way to only open file once.\n",
    "    array = pd.read_csv(file, comment='#', delimiter='\\s+', header=None)\n",
    "    \n",
    "    return array, timestamp\n",
    "\n",
    "\n",
    "# Low-tech unit testing\n",
    "_array, _timestamp = ovation_forecast()\n",
    "assert _array.shape == (512, 1024)\n",
    "assert str(_timestamp)[0:2] == '20'  # From '2017...'"
   ]
  },
  {
   "cell_type": "markdown",
   "metadata": {},
   "source": [
    "## Visualization\n",
    "### Equirectangular Projection (Plate Carrée)\n",
    "We'll start off with a basic matplotlib figure, where each pixel in the data file represents approximately a third of a degree. The figure below, however, has been expanded a bit, with bicubic interpolation to smooth the values between the dots. With proper transparency, this could be overlaid on top of the base map in Google Earth."
   ]
  },
  {
   "cell_type": "code",
   "execution_count": null,
   "metadata": {
    "collapsed": false
   },
   "outputs": [],
   "source": [
    "data = ovation_forecast()[0]\n",
    "fig = plt.subplots(figsize=(20, 20))\n",
    "plt.imshow(data, \n",
    "           interpolation='bicubic', \n",
    "           cmap='magma', \n",
    "           origin='lower',\n",
    "          )\n",
    "plt.colorbar(shrink=0.4)\n",
    "plt.xticks([]), plt.yticks([])\n",
    "plt.show()"
   ]
  },
  {
   "cell_type": "markdown",
   "metadata": {},
   "source": [
    "### Polar Projection\n",
    "To recreate the two figures in the introduction, we need to re-project it accordingly. For this we use cartopy, provided by the [British Met Office](http://scitools.org.uk/cartopy/). In their own words, some of the key features of cartopy are:\n",
    "\n",
    "* object oriented projection definitions\n",
    "* point, line, vector, polygon and image transformations between projections\n",
    "* integration to expose advanced mapping in matplotlib with a simple and intuitive interface\n",
    "* powerful vector data handling by integrating shapefile reading with Shapely capabilities\n",
    "\n",
    "\n",
    "    [ ] TODO: Look into incorporating Shapely for extra types of data for export.\n"
   ]
  },
  {
   "cell_type": "code",
   "execution_count": null,
   "metadata": {
    "collapsed": true
   },
   "outputs": [],
   "source": [
    "import cartopy\n",
    "\n"
   ]
  }
 ],
 "metadata": {
  "kernelspec": {
   "display_name": "Python 3",
   "language": "python",
   "name": "python3"
  },
  "language_info": {
   "codemirror_mode": {
    "name": "ipython",
    "version": 3
   },
   "file_extension": ".py",
   "mimetype": "text/x-python",
   "name": "python",
   "nbconvert_exporter": "python",
   "pygments_lexer": "ipython3",
   "version": "3.6.0"
  }
 },
 "nbformat": 4,
 "nbformat_minor": 2
}
